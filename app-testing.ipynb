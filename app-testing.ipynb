{
 "cells": [
  {
   "cell_type": "code",
   "execution_count": 2,
   "metadata": {},
   "outputs": [],
   "source": [
    "import requests"
   ]
  },
  {
   "cell_type": "code",
   "execution_count": 6,
   "metadata": {},
   "outputs": [],
   "source": [
    "# Create data dummy\n",
    "data = {\n",
    "    'data':[[20000,2,2,1,24,2,2,-1,-1,-2,-2,3913,3102,689,0,0,0,0,689,0,0,0,0],\n",
    "            [50000,2,2,0,24,2,2,-1,-1,-2,-2,2000,3105,500,0,0,0,0,689,0,100,0,0],\n",
    "            [200,2,2,0,24,2,2,-1,-1,-2,-2,2000,3102,500,0,0,0,0,689,0,100,0,0]]\n",
    "}"
   ]
  },
  {
   "cell_type": "code",
   "execution_count": 10,
   "metadata": {},
   "outputs": [
    {
     "data": {
      "text/plain": [
       "{'prediction': [0.7889363714237408, 0.6033892920820889, 0.658866043379281]}"
      ]
     },
     "execution_count": 10,
     "metadata": {},
     "output_type": "execute_result"
    }
   ],
   "source": [
    "import json\n",
    "URL = \"http://127.0.0.1:5000/predict\"\n",
    "\n",
    "result = requests.post(url=URL, json=data)\n",
    "result.json()"
   ]
  },
  {
   "cell_type": "code",
   "execution_count": 11,
   "metadata": {},
   "outputs": [
    {
     "name": "stdout",
     "output_type": "stream",
     "text": [
      "pandas== 2.2.3\n",
      "flask== 3.1.0\n",
      "sklearn== 1.5.2\n"
     ]
    },
    {
     "name": "stderr",
     "output_type": "stream",
     "text": [
      "/var/folders/7j/w3bfsl156hld7hbhjv9q93vr0000gn/T/ipykernel_7463/2940707147.py:7: DeprecationWarning: The '__version__' attribute is deprecated and will be removed in Flask 3.1. Use feature detection or 'importlib.metadata.version(\"flask\")' instead.\n",
      "  print(\"flask==\", flask.__version__)\n"
     ]
    }
   ],
   "source": [
    "import sklearn\n",
    "import flask\n",
    "import pickle\n",
    "import pandas\n",
    "\n",
    "print(\"pandas==\", pandas.__version__)\n",
    "print(\"flask==\", flask.__version__)\n",
    "print(\"sklearn==\", sklearn.__version__)"
   ]
  }
 ],
 "metadata": {
  "kernelspec": {
   "display_name": "jcds0412",
   "language": "python",
   "name": "python3"
  },
  "language_info": {
   "codemirror_mode": {
    "name": "ipython",
    "version": 3
   },
   "file_extension": ".py",
   "mimetype": "text/x-python",
   "name": "python",
   "nbconvert_exporter": "python",
   "pygments_lexer": "ipython3",
   "version": "3.12.5"
  }
 },
 "nbformat": 4,
 "nbformat_minor": 2
}
